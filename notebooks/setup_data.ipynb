{
 "cells": [
  {
   "cell_type": "code",
   "execution_count": 1,
   "metadata": {},
   "outputs": [],
   "source": [
    "import numpy as np\n",
    "from scipy.optimize import check_grad\n",
    "from scipy import stats\n",
    "import matplotlib as mpl\n",
    "import matplotlib.pyplot as plt\n",
    "import pandas as pd\n",
    "from os import path\n",
    "import os\n",
    "\n",
    "%matplotlib inline"
   ]
  },
  {
   "cell_type": "code",
   "execution_count": 2,
   "metadata": {},
   "outputs": [],
   "source": [
    "COMPTON_PATH = os.environ.get('COMPTON_PATH')\n",
    "data_path = 'analysis/data'"
   ]
  },
  {
   "cell_type": "code",
   "execution_count": 3,
   "metadata": {},
   "outputs": [],
   "source": [
    "table_name = 'polarisabilities-coefficient-table-for-all-observables.20191111'\n",
    "my_table_name = table_name.replace('.', '_') + '_jam.csv'\n",
    "polar_cols = [\n",
    "    'omegalab [MeV]', 'thetalab [deg]', 'observable', 'nucleon', 'order', 'is_numerator',\n",
    "    'A', 'B1', 'B2', 'B3', 'B4', 'B5', 'B6',\n",
    "    'C11', 'C12', 'C13', 'C14', 'C15', 'C16',\n",
    "           'C22', 'C23', 'C24', 'C25', 'C26',\n",
    "                  'C33', 'C34', 'C35', 'C36',\n",
    "                         'C44', 'C45', 'C46',\n",
    "                                'C55', 'C56',\n",
    "                                       'C66'\n",
    "]\n",
    "df = pd.read_csv(\n",
    "    path.join(COMPTON_PATH, data_path, table_name+'.csv'),\n",
    "    skiprows=[0,1,2,3,4], names=polar_cols, dtype={'observable': str}\n",
    ")\n",
    "df.to_csv(path.join('../data', my_table_name), index=False)"
   ]
  },
  {
   "cell_type": "code",
   "execution_count": null,
   "metadata": {},
   "outputs": [],
   "source": []
  }
 ],
 "metadata": {
  "kernelspec": {
   "display_name": "Python 3",
   "language": "python",
   "name": "python3"
  },
  "language_info": {
   "codemirror_mode": {
    "name": "ipython",
    "version": 3
   },
   "file_extension": ".py",
   "mimetype": "text/x-python",
   "name": "python",
   "nbconvert_exporter": "python",
   "pygments_lexer": "ipython3",
   "version": "3.7.5"
  }
 },
 "nbformat": 4,
 "nbformat_minor": 2
}
