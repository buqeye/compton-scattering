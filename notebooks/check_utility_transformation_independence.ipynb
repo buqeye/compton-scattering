{
 "cells": [
  {
   "cell_type": "markdown",
   "metadata": {},
   "source": [
    "# Experimental Design with Transformations\n",
    "\n",
    "This notebook checks whether the utility is really independent of linear transformations.\n",
    "It is made succinct and readable because most detailed code resides in the `compton` package.\n",
    "\n",
    "## Setup"
   ]
  },
  {
   "cell_type": "code",
   "execution_count": 1,
   "metadata": {},
   "outputs": [],
   "source": [
    "%load_ext autoreload\n",
    "%autoreload 2\n",
    "\n",
    "%matplotlib inline\n",
    "\n",
    "import numpy as np\n",
    "import scipy as sp\n",
    "from scipy.optimize import check_grad\n",
    "from scipy import stats\n",
    "import matplotlib as mpl\n",
    "import matplotlib.pyplot as plt\n",
    "from matplotlib import ticker\n",
    "import pandas as pd\n",
    "from os import path\n",
    "import seaborn as sns\n",
    "from matplotlib import gridspec as gs\n",
    "from sklearn.utils.extmath import cartesian\n",
    "\n",
    "from compton import create_observable_set, pol_vec_trans_tex_names\n",
    "from compton import proton_pol_vec_mean, proton_pol_vec_std\n",
    "from compton import neutron_pol_vec_mean, neutron_pol_vec_std\n",
    "from compton import proton_pol_vec_trans_std, proton_pol_vec_trans_mean\n",
    "from compton import neutron_pol_vec_trans_std, neutron_pol_vec_trans_mean\n",
    "\n",
    "from compton import plot_subsets, compute_all_1pt_utilities, compute_max_utilities\n",
    "from compton import convert_max_utilities_to_dataframe, convert_max_utilities_to_flat_dataframe\n",
    "from compton import ComptonExperiment"
   ]
  },
  {
   "cell_type": "markdown",
   "metadata": {},
   "source": [
    "Set up global plot settings."
   ]
  },
  {
   "cell_type": "code",
   "execution_count": 2,
   "metadata": {},
   "outputs": [],
   "source": [
    "mpl.rc('text', usetex=True)\n",
    "mpl.rcParams['font.size'] = 9\n",
    "mpl.rcParams['text.usetex'] = True\n",
    "mpl.rcParams['font.family'] = 'serif'\n",
    "\n",
    "mpl.rc('savefig', transparent=False, bbox='tight', pad_inches=0.05, dpi=300, format='png')\n",
    "mpl.rcParams['figure.dpi'] = 150"
   ]
  },
  {
   "cell_type": "markdown",
   "metadata": {},
   "source": [
    "These colors will be used throughout"
   ]
  },
  {
   "cell_type": "code",
   "execution_count": 3,
   "metadata": {},
   "outputs": [],
   "source": [
    "proton_cmap = plt.get_cmap('Reds')\n",
    "neutron_cmap = plt.get_cmap('Blues')\n",
    "proton_color = proton_cmap(0.55)\n",
    "neutron_color = neutron_cmap(0.55)"
   ]
  },
  {
   "cell_type": "markdown",
   "metadata": {},
   "source": [
    "## Read in Data\n",
    "\n",
    "Start by reading in raw data, and then get it into a form that is more readable."
   ]
  },
  {
   "cell_type": "code",
   "execution_count": 4,
   "metadata": {},
   "outputs": [],
   "source": [
    "obs_file = path.abspath('../data/polarisabilities-coefficient-table-for-all-observables_20191111_jam.csv')\n",
    "df = pd.read_csv(obs_file, dtype={'observable': str})"
   ]
  },
  {
   "cell_type": "code",
   "execution_count": 5,
   "metadata": {},
   "outputs": [],
   "source": [
    "omega_lab_unique = df['omegalab [MeV]'].unique()\n",
    "degrees_lab_unique = df['thetalab [deg]'].unique()\n",
    "n_omega = len(omega_lab_unique)\n",
    "n_angle = len(degrees_lab_unique)"
   ]
  },
  {
   "cell_type": "code",
   "execution_count": 6,
   "metadata": {},
   "outputs": [
    {
     "data": {
      "text/plain": [
       "array([[  5.,   1.],\n",
       "       [  5.,   5.],\n",
       "       [  5.,  10.],\n",
       "       ...,\n",
       "       [340., 170.],\n",
       "       [340., 175.],\n",
       "       [340., 180.]])"
      ]
     },
     "execution_count": 6,
     "metadata": {},
     "output_type": "execute_result"
    }
   ],
   "source": [
    "X = cartesian([omega_lab_unique, degrees_lab_unique])\n",
    "X"
   ]
  },
  {
   "cell_type": "markdown",
   "metadata": {},
   "source": [
    "For most of the study, using *all* of these kinematic points is overkill, downsample to a more reasonable number within the reach of experiments."
   ]
  },
  {
   "cell_type": "code",
   "execution_count": 7,
   "metadata": {},
   "outputs": [],
   "source": [
    "observables_unique_raw = df['observable'].unique()\n",
    "observables_unique_raw\n",
    "observables_unique_raw[0] = 'dsg'"
   ]
  },
  {
   "cell_type": "code",
   "execution_count": 8,
   "metadata": {},
   "outputs": [
    {
     "data": {
      "text/plain": [
       "array(['dsg', '1X', '1Z', '2X', '2Z', '3', 'Y', '3Y', '3Yp', '1Xp', '1Zp',\n",
       "       '2Xp', '2Zp'], dtype=object)"
      ]
     },
     "execution_count": 8,
     "metadata": {},
     "output_type": "execute_result"
    }
   ],
   "source": [
    "observables_unique_raw"
   ]
  },
  {
   "cell_type": "code",
   "execution_count": 9,
   "metadata": {},
   "outputs": [],
   "source": [
    "observables_name_map = {\n",
    "    'crosssection': r'$\\sigma$',\n",
    "    '1X': r'$\\Sigma_{1x}$',\n",
    "    '1Z': r'$\\Sigma_{1z}$',\n",
    "    '2X': r'$\\Sigma_{2x}$',\n",
    "    '2Z': r'$\\Sigma_{2z}$',\n",
    "    '3': r'$\\Sigma_{3}$',\n",
    "    'Y': r'$\\Sigma_{y}$',\n",
    "    '3Y': r'$\\Sigma_{3y}$',\n",
    "    '3Yp': r\"$\\Sigma_{3y'}$\",\n",
    "    '1Xp': r\"$\\Sigma_{1x'}$\",\n",
    "    '1Zp': r\"$\\Sigma_{1z'}$\",\n",
    "    '2Xp': r\"$\\Sigma_{2x'}$\",\n",
    "    '2Zp': r\"$\\Sigma_{2z'}$\",\n",
    "}"
   ]
  },
  {
   "cell_type": "code",
   "execution_count": 10,
   "metadata": {},
   "outputs": [],
   "source": [
    "df['observable'] = df['observable'].replace(observables_name_map)\n",
    "observables_unique = df['observable'].unique()"
   ]
  },
  {
   "cell_type": "markdown",
   "metadata": {},
   "source": [
    "Observables are constructed as (ratios of) $A + B^T \\vec{a} + \\vec{a}^T C \\vec{a}$, for the polarizabilities $\\vec{a}$."
   ]
  },
  {
   "cell_type": "code",
   "execution_count": 11,
   "metadata": {},
   "outputs": [
    {
     "data": {
      "text/html": [
       "<div>\n",
       "<style scoped>\n",
       "    .dataframe tbody tr th:only-of-type {\n",
       "        vertical-align: middle;\n",
       "    }\n",
       "\n",
       "    .dataframe tbody tr th {\n",
       "        vertical-align: top;\n",
       "    }\n",
       "\n",
       "    .dataframe thead th {\n",
       "        text-align: right;\n",
       "    }\n",
       "</style>\n",
       "<table border=\"1\" class=\"dataframe\">\n",
       "  <thead>\n",
       "    <tr style=\"text-align: right;\">\n",
       "      <th></th>\n",
       "      <th>omegalab [MeV]</th>\n",
       "      <th>thetalab [deg]</th>\n",
       "      <th>observable</th>\n",
       "      <th>nucleon</th>\n",
       "      <th>order</th>\n",
       "      <th>is_numerator</th>\n",
       "      <th>A</th>\n",
       "      <th>B1</th>\n",
       "      <th>B2</th>\n",
       "      <th>B3</th>\n",
       "      <th>...</th>\n",
       "      <th>C33</th>\n",
       "      <th>C34</th>\n",
       "      <th>C35</th>\n",
       "      <th>C36</th>\n",
       "      <th>C44</th>\n",
       "      <th>C45</th>\n",
       "      <th>C46</th>\n",
       "      <th>C55</th>\n",
       "      <th>C56</th>\n",
       "      <th>C66</th>\n",
       "    </tr>\n",
       "  </thead>\n",
       "  <tbody>\n",
       "    <tr>\n",
       "      <th>0</th>\n",
       "      <td>5.0</td>\n",
       "      <td>1</td>\n",
       "      <td>$\\sigma$</td>\n",
       "      <td>proton</td>\n",
       "      <td>3</td>\n",
       "      <td>1</td>\n",
       "      <td>23.550624</td>\n",
       "      <td>-0.001971</td>\n",
       "      <td>-0.001971</td>\n",
       "      <td>4.278199e-07</td>\n",
       "      <td>...</td>\n",
       "      <td>0.000000</td>\n",
       "      <td>0.000000</td>\n",
       "      <td>0.000000</td>\n",
       "      <td>0.000000</td>\n",
       "      <td>0.000000</td>\n",
       "      <td>0.000000</td>\n",
       "      <td>0.000000</td>\n",
       "      <td>0.000000</td>\n",
       "      <td>0.000000</td>\n",
       "      <td>0.000000</td>\n",
       "    </tr>\n",
       "    <tr>\n",
       "      <th>1</th>\n",
       "      <td>5.0</td>\n",
       "      <td>1</td>\n",
       "      <td>$\\sigma$</td>\n",
       "      <td>proton</td>\n",
       "      <td>3</td>\n",
       "      <td>0</td>\n",
       "      <td>1.000000</td>\n",
       "      <td>0.000000</td>\n",
       "      <td>0.000000</td>\n",
       "      <td>0.000000e+00</td>\n",
       "      <td>...</td>\n",
       "      <td>0.000000</td>\n",
       "      <td>0.000000</td>\n",
       "      <td>0.000000</td>\n",
       "      <td>0.000000</td>\n",
       "      <td>0.000000</td>\n",
       "      <td>0.000000</td>\n",
       "      <td>0.000000</td>\n",
       "      <td>0.000000</td>\n",
       "      <td>0.000000</td>\n",
       "      <td>0.000000</td>\n",
       "    </tr>\n",
       "    <tr>\n",
       "      <th>2</th>\n",
       "      <td>5.0</td>\n",
       "      <td>5</td>\n",
       "      <td>$\\sigma$</td>\n",
       "      <td>proton</td>\n",
       "      <td>3</td>\n",
       "      <td>1</td>\n",
       "      <td>23.463893</td>\n",
       "      <td>-0.001963</td>\n",
       "      <td>-0.001963</td>\n",
       "      <td>4.271897e-07</td>\n",
       "      <td>...</td>\n",
       "      <td>0.000000</td>\n",
       "      <td>0.000000</td>\n",
       "      <td>0.000000</td>\n",
       "      <td>0.000000</td>\n",
       "      <td>0.000000</td>\n",
       "      <td>0.000000</td>\n",
       "      <td>0.000000</td>\n",
       "      <td>0.000000</td>\n",
       "      <td>0.000000</td>\n",
       "      <td>0.000000</td>\n",
       "    </tr>\n",
       "    <tr>\n",
       "      <th>3</th>\n",
       "      <td>5.0</td>\n",
       "      <td>5</td>\n",
       "      <td>$\\sigma$</td>\n",
       "      <td>proton</td>\n",
       "      <td>3</td>\n",
       "      <td>0</td>\n",
       "      <td>1.000000</td>\n",
       "      <td>0.000000</td>\n",
       "      <td>0.000000</td>\n",
       "      <td>0.000000e+00</td>\n",
       "      <td>...</td>\n",
       "      <td>0.000000</td>\n",
       "      <td>0.000000</td>\n",
       "      <td>0.000000</td>\n",
       "      <td>0.000000</td>\n",
       "      <td>0.000000</td>\n",
       "      <td>0.000000</td>\n",
       "      <td>0.000000</td>\n",
       "      <td>0.000000</td>\n",
       "      <td>0.000000</td>\n",
       "      <td>0.000000</td>\n",
       "    </tr>\n",
       "    <tr>\n",
       "      <th>4</th>\n",
       "      <td>5.0</td>\n",
       "      <td>10</td>\n",
       "      <td>$\\sigma$</td>\n",
       "      <td>proton</td>\n",
       "      <td>3</td>\n",
       "      <td>1</td>\n",
       "      <td>23.195600</td>\n",
       "      <td>-0.001941</td>\n",
       "      <td>-0.001941</td>\n",
       "      <td>4.251508e-07</td>\n",
       "      <td>...</td>\n",
       "      <td>0.000000</td>\n",
       "      <td>0.000000</td>\n",
       "      <td>0.000000</td>\n",
       "      <td>0.000000</td>\n",
       "      <td>0.000000</td>\n",
       "      <td>0.000000</td>\n",
       "      <td>0.000000</td>\n",
       "      <td>0.000000</td>\n",
       "      <td>0.000000</td>\n",
       "      <td>0.000000</td>\n",
       "    </tr>\n",
       "    <tr>\n",
       "      <th>...</th>\n",
       "      <td>...</td>\n",
       "      <td>...</td>\n",
       "      <td>...</td>\n",
       "      <td>...</td>\n",
       "      <td>...</td>\n",
       "      <td>...</td>\n",
       "      <td>...</td>\n",
       "      <td>...</td>\n",
       "      <td>...</td>\n",
       "      <td>...</td>\n",
       "      <td>...</td>\n",
       "      <td>...</td>\n",
       "      <td>...</td>\n",
       "      <td>...</td>\n",
       "      <td>...</td>\n",
       "      <td>...</td>\n",
       "      <td>...</td>\n",
       "      <td>...</td>\n",
       "      <td>...</td>\n",
       "      <td>...</td>\n",
       "      <td>...</td>\n",
       "    </tr>\n",
       "    <tr>\n",
       "      <th>284747</th>\n",
       "      <td>340.0</td>\n",
       "      <td>170</td>\n",
       "      <td>$\\Sigma_{2z'}$</td>\n",
       "      <td>neutron</td>\n",
       "      <td>4</td>\n",
       "      <td>0</td>\n",
       "      <td>1539.171610</td>\n",
       "      <td>22.347716</td>\n",
       "      <td>-22.350937</td>\n",
       "      <td>4.854397e+01</td>\n",
       "      <td>...</td>\n",
       "      <td>1.775510</td>\n",
       "      <td>-3.452411</td>\n",
       "      <td>3.354500</td>\n",
       "      <td>-3.452411</td>\n",
       "      <td>1.775510</td>\n",
       "      <td>-3.452411</td>\n",
       "      <td>3.354500</td>\n",
       "      <td>1.726380</td>\n",
       "      <td>-3.355539</td>\n",
       "      <td>1.726380</td>\n",
       "    </tr>\n",
       "    <tr>\n",
       "      <th>284748</th>\n",
       "      <td>340.0</td>\n",
       "      <td>175</td>\n",
       "      <td>$\\Sigma_{2z'}$</td>\n",
       "      <td>neutron</td>\n",
       "      <td>4</td>\n",
       "      <td>1</td>\n",
       "      <td>1404.223925</td>\n",
       "      <td>36.547947</td>\n",
       "      <td>-36.547947</td>\n",
       "      <td>2.941353e+01</td>\n",
       "      <td>...</td>\n",
       "      <td>0.006110</td>\n",
       "      <td>0.012220</td>\n",
       "      <td>-0.012198</td>\n",
       "      <td>-0.012198</td>\n",
       "      <td>0.006110</td>\n",
       "      <td>-0.012198</td>\n",
       "      <td>-0.012198</td>\n",
       "      <td>0.006088</td>\n",
       "      <td>0.012177</td>\n",
       "      <td>0.006088</td>\n",
       "    </tr>\n",
       "    <tr>\n",
       "      <th>284749</th>\n",
       "      <td>340.0</td>\n",
       "      <td>175</td>\n",
       "      <td>$\\Sigma_{2z'}$</td>\n",
       "      <td>neutron</td>\n",
       "      <td>4</td>\n",
       "      <td>0</td>\n",
       "      <td>1535.901865</td>\n",
       "      <td>22.339037</td>\n",
       "      <td>-22.339236</td>\n",
       "      <td>4.810882e+01</td>\n",
       "      <td>...</td>\n",
       "      <td>1.735146</td>\n",
       "      <td>-3.445853</td>\n",
       "      <td>3.421456</td>\n",
       "      <td>-3.445853</td>\n",
       "      <td>1.735146</td>\n",
       "      <td>-3.445853</td>\n",
       "      <td>3.421456</td>\n",
       "      <td>1.722937</td>\n",
       "      <td>-3.421521</td>\n",
       "      <td>1.722937</td>\n",
       "    </tr>\n",
       "    <tr>\n",
       "      <th>284750</th>\n",
       "      <td>340.0</td>\n",
       "      <td>180</td>\n",
       "      <td>$\\Sigma_{2z'}$</td>\n",
       "      <td>neutron</td>\n",
       "      <td>4</td>\n",
       "      <td>1</td>\n",
       "      <td>1402.767299</td>\n",
       "      <td>36.552870</td>\n",
       "      <td>-36.552870</td>\n",
       "      <td>2.930796e+01</td>\n",
       "      <td>...</td>\n",
       "      <td>0.000000</td>\n",
       "      <td>0.000000</td>\n",
       "      <td>0.000000</td>\n",
       "      <td>0.000000</td>\n",
       "      <td>0.000000</td>\n",
       "      <td>0.000000</td>\n",
       "      <td>0.000000</td>\n",
       "      <td>0.000000</td>\n",
       "      <td>0.000000</td>\n",
       "      <td>0.000000</td>\n",
       "    </tr>\n",
       "    <tr>\n",
       "      <th>284751</th>\n",
       "      <td>340.0</td>\n",
       "      <td>180</td>\n",
       "      <td>$\\Sigma_{2z'}$</td>\n",
       "      <td>neutron</td>\n",
       "      <td>4</td>\n",
       "      <td>0</td>\n",
       "      <td>1534.803159</td>\n",
       "      <td>22.335483</td>\n",
       "      <td>-22.335483</td>\n",
       "      <td>4.796360e+01</td>\n",
       "      <td>...</td>\n",
       "      <td>1.721791</td>\n",
       "      <td>-3.443583</td>\n",
       "      <td>3.443583</td>\n",
       "      <td>-3.443583</td>\n",
       "      <td>1.721791</td>\n",
       "      <td>-3.443583</td>\n",
       "      <td>3.443583</td>\n",
       "      <td>1.721791</td>\n",
       "      <td>-3.443583</td>\n",
       "      <td>1.721791</td>\n",
       "    </tr>\n",
       "  </tbody>\n",
       "</table>\n",
       "<p>284752 rows × 34 columns</p>\n",
       "</div>"
      ],
      "text/plain": [
       "        omegalab [MeV]  thetalab [deg]      observable  nucleon  order  \\\n",
       "0                  5.0               1        $\\sigma$   proton      3   \n",
       "1                  5.0               1        $\\sigma$   proton      3   \n",
       "2                  5.0               5        $\\sigma$   proton      3   \n",
       "3                  5.0               5        $\\sigma$   proton      3   \n",
       "4                  5.0              10        $\\sigma$   proton      3   \n",
       "...                ...             ...             ...      ...    ...   \n",
       "284747           340.0             170  $\\Sigma_{2z'}$  neutron      4   \n",
       "284748           340.0             175  $\\Sigma_{2z'}$  neutron      4   \n",
       "284749           340.0             175  $\\Sigma_{2z'}$  neutron      4   \n",
       "284750           340.0             180  $\\Sigma_{2z'}$  neutron      4   \n",
       "284751           340.0             180  $\\Sigma_{2z'}$  neutron      4   \n",
       "\n",
       "        is_numerator            A         B1         B2            B3  ...  \\\n",
       "0                  1    23.550624  -0.001971  -0.001971  4.278199e-07  ...   \n",
       "1                  0     1.000000   0.000000   0.000000  0.000000e+00  ...   \n",
       "2                  1    23.463893  -0.001963  -0.001963  4.271897e-07  ...   \n",
       "3                  0     1.000000   0.000000   0.000000  0.000000e+00  ...   \n",
       "4                  1    23.195600  -0.001941  -0.001941  4.251508e-07  ...   \n",
       "...              ...          ...        ...        ...           ...  ...   \n",
       "284747             0  1539.171610  22.347716 -22.350937  4.854397e+01  ...   \n",
       "284748             1  1404.223925  36.547947 -36.547947  2.941353e+01  ...   \n",
       "284749             0  1535.901865  22.339037 -22.339236  4.810882e+01  ...   \n",
       "284750             1  1402.767299  36.552870 -36.552870  2.930796e+01  ...   \n",
       "284751             0  1534.803159  22.335483 -22.335483  4.796360e+01  ...   \n",
       "\n",
       "             C33       C34       C35       C36       C44       C45       C46  \\\n",
       "0       0.000000  0.000000  0.000000  0.000000  0.000000  0.000000  0.000000   \n",
       "1       0.000000  0.000000  0.000000  0.000000  0.000000  0.000000  0.000000   \n",
       "2       0.000000  0.000000  0.000000  0.000000  0.000000  0.000000  0.000000   \n",
       "3       0.000000  0.000000  0.000000  0.000000  0.000000  0.000000  0.000000   \n",
       "4       0.000000  0.000000  0.000000  0.000000  0.000000  0.000000  0.000000   \n",
       "...          ...       ...       ...       ...       ...       ...       ...   \n",
       "284747  1.775510 -3.452411  3.354500 -3.452411  1.775510 -3.452411  3.354500   \n",
       "284748  0.006110  0.012220 -0.012198 -0.012198  0.006110 -0.012198 -0.012198   \n",
       "284749  1.735146 -3.445853  3.421456 -3.445853  1.735146 -3.445853  3.421456   \n",
       "284750  0.000000  0.000000  0.000000  0.000000  0.000000  0.000000  0.000000   \n",
       "284751  1.721791 -3.443583  3.443583 -3.443583  1.721791 -3.443583  3.443583   \n",
       "\n",
       "             C55       C56       C66  \n",
       "0       0.000000  0.000000  0.000000  \n",
       "1       0.000000  0.000000  0.000000  \n",
       "2       0.000000  0.000000  0.000000  \n",
       "3       0.000000  0.000000  0.000000  \n",
       "4       0.000000  0.000000  0.000000  \n",
       "...          ...       ...       ...  \n",
       "284747  1.726380 -3.355539  1.726380  \n",
       "284748  0.006088  0.012177  0.006088  \n",
       "284749  1.722937 -3.421521  1.722937  \n",
       "284750  0.000000  0.000000  0.000000  \n",
       "284751  1.721791 -3.443583  1.721791  \n",
       "\n",
       "[284752 rows x 34 columns]"
      ]
     },
     "execution_count": 11,
     "metadata": {},
     "output_type": "execute_result"
    }
   ],
   "source": [
    "df"
   ]
  },
  {
   "cell_type": "code",
   "execution_count": 12,
   "metadata": {},
   "outputs": [
    {
     "data": {
      "text/html": [
       "<div>\n",
       "<style scoped>\n",
       "    .dataframe tbody tr th:only-of-type {\n",
       "        vertical-align: middle;\n",
       "    }\n",
       "\n",
       "    .dataframe tbody tr th {\n",
       "        vertical-align: top;\n",
       "    }\n",
       "\n",
       "    .dataframe thead th {\n",
       "        text-align: right;\n",
       "    }\n",
       "</style>\n",
       "<table border=\"1\" class=\"dataframe\">\n",
       "  <thead>\n",
       "    <tr style=\"text-align: right;\">\n",
       "      <th></th>\n",
       "      <th>omegalab [MeV]</th>\n",
       "      <th>thetalab [deg]</th>\n",
       "    </tr>\n",
       "  </thead>\n",
       "  <tbody>\n",
       "    <tr>\n",
       "      <th>0</th>\n",
       "      <td>5.0</td>\n",
       "      <td>1</td>\n",
       "    </tr>\n",
       "    <tr>\n",
       "      <th>1</th>\n",
       "      <td>5.0</td>\n",
       "      <td>1</td>\n",
       "    </tr>\n",
       "    <tr>\n",
       "      <th>2</th>\n",
       "      <td>5.0</td>\n",
       "      <td>5</td>\n",
       "    </tr>\n",
       "    <tr>\n",
       "      <th>3</th>\n",
       "      <td>5.0</td>\n",
       "      <td>5</td>\n",
       "    </tr>\n",
       "    <tr>\n",
       "      <th>4</th>\n",
       "      <td>5.0</td>\n",
       "      <td>10</td>\n",
       "    </tr>\n",
       "    <tr>\n",
       "      <th>...</th>\n",
       "      <td>...</td>\n",
       "      <td>...</td>\n",
       "    </tr>\n",
       "    <tr>\n",
       "      <th>284747</th>\n",
       "      <td>340.0</td>\n",
       "      <td>170</td>\n",
       "    </tr>\n",
       "    <tr>\n",
       "      <th>284748</th>\n",
       "      <td>340.0</td>\n",
       "      <td>175</td>\n",
       "    </tr>\n",
       "    <tr>\n",
       "      <th>284749</th>\n",
       "      <td>340.0</td>\n",
       "      <td>175</td>\n",
       "    </tr>\n",
       "    <tr>\n",
       "      <th>284750</th>\n",
       "      <td>340.0</td>\n",
       "      <td>180</td>\n",
       "    </tr>\n",
       "    <tr>\n",
       "      <th>284751</th>\n",
       "      <td>340.0</td>\n",
       "      <td>180</td>\n",
       "    </tr>\n",
       "  </tbody>\n",
       "</table>\n",
       "<p>284752 rows × 2 columns</p>\n",
       "</div>"
      ],
      "text/plain": [
       "        omegalab [MeV]  thetalab [deg]\n",
       "0                  5.0               1\n",
       "1                  5.0               1\n",
       "2                  5.0               5\n",
       "3                  5.0               5\n",
       "4                  5.0              10\n",
       "...                ...             ...\n",
       "284747           340.0             170\n",
       "284748           340.0             175\n",
       "284749           340.0             175\n",
       "284750           340.0             180\n",
       "284751           340.0             180\n",
       "\n",
       "[284752 rows x 2 columns]"
      ]
     },
     "execution_count": 12,
     "metadata": {},
     "output_type": "execute_result"
    }
   ],
   "source": [
    "df[['omegalab [MeV]', 'thetalab [deg]']]"
   ]
  },
  {
   "cell_type": "markdown",
   "metadata": {},
   "source": [
    "## Transform to a more natural basis\n",
    "\n",
    "We must make the transformation\n",
    "\\begin{align*}\n",
    "\\vec{\\xi} \\to \\vec{\\xi}' \\equiv P \\vec{\\xi}\n",
    "\\end{align*}\n",
    "that is\n",
    "\\begin{align*}\n",
    "\\begin{bmatrix}\n",
    "\\alpha + \\beta \\\\\n",
    "\\alpha - \\beta \\\\\n",
    "\\gamma_0 \\\\\n",
    "\\gamma_\\pi \\\\\n",
    "\\gamma_{E-} \\\\\n",
    "\\gamma_{M-}\n",
    "\\end{bmatrix}\n",
    "\\equiv\n",
    "\\begin{bmatrix}\n",
    "    1 &  1 &  0 &  0 &  0 &  0 \\\\\n",
    "    1 & -1 &  0 &  0 &  0 &  0 \\\\\n",
    "    0 &  0 & -1 & -1 & -1 & -1 \\\\\n",
    "    0 &  0 & -1 &  1 & -1 &  1 \\\\\n",
    "    0 &  0 &  1 &  0 & -1 &  0 \\\\\n",
    "    0 &  0 &  0 &  1 &  0 & -1\n",
    "\\end{bmatrix}\n",
    "\\begin{bmatrix}\n",
    "\\alpha \\\\ \\beta \\\\ \\gamma_{E1E1} \\\\ \\gamma_{M1M1} \\\\ \\gamma_{E1M2} \\\\ \\gamma_{M1E2}\n",
    "\\end{bmatrix}\n",
    "\\end{align*}\n",
    "\n",
    "This is not an orthogonal transformation but for the new utility formula this is not a problem. So everything is good!"
   ]
  },
  {
   "cell_type": "code",
   "execution_count": 13,
   "metadata": {},
   "outputs": [],
   "source": [
    "P = np.array([\n",
    "    [1,  1,  0,  0,  0,  0],\n",
    "    [1, -1,  0,  0,  0,  0],\n",
    "    [0,  0, -1, -1, -1, -1],\n",
    "    [0,  0, -1,  1, -1,  1],\n",
    "    [0,  0,  1,  0, -1,  0],\n",
    "    [0,  0,  0,  1,  0, -1]\n",
    "])\n",
    "P_inv = np.linalg.inv(P)"
   ]
  },
  {
   "cell_type": "code",
   "execution_count": 14,
   "metadata": {},
   "outputs": [],
   "source": [
    "cov_p_proton = np.diag(proton_pol_vec_std)\n",
    "cov_p_proton_mapped = P @ cov_p_proton @ P.T\n",
    "\n",
    "cov_p_neutron = np.diag(neutron_pol_vec_std)\n",
    "cov_p_neutron_mapped = P @ cov_p_neutron @ P.T"
   ]
  },
  {
   "cell_type": "code",
   "execution_count": 27,
   "metadata": {},
   "outputs": [],
   "source": [
    "sd_exp = 0.05  # Guess from fig A.9 from Martel Thesis"
   ]
  },
  {
   "cell_type": "markdown",
   "metadata": {},
   "source": [
    "Make two compton observable sets. One of which uses transformed parameters and the other does not."
   ]
  },
  {
   "cell_type": "code",
   "execution_count": 28,
   "metadata": {},
   "outputs": [],
   "source": [
    "compton_obs = create_observable_set(df=df, cov_exp=sd_exp**2, cov_p_proton=cov_p_proton, cov_p_neutron=cov_p_neutron)\n",
    "compton_obs_mapped = create_observable_set(\n",
    "    df=df, cov_exp=sd_exp**2, p_transform=P,\n",
    "    cov_p_proton=cov_p_proton_mapped, cov_p_neutron=cov_p_neutron_mapped\n",
    ")"
   ]
  },
  {
   "cell_type": "markdown",
   "metadata": {},
   "source": [
    "## Checking if the utility is invariant under change of polarizations\n",
    "\n",
    "hint: it is!"
   ]
  },
  {
   "cell_type": "code",
   "execution_count": 29,
   "metadata": {},
   "outputs": [
    {
     "data": {
      "text/plain": [
       "0.11240901846048648"
      ]
     },
     "execution_count": 29,
     "metadata": {},
     "output_type": "execute_result"
    }
   ],
   "source": [
    "np.linalg.det(cov_p_proton)"
   ]
  },
  {
   "cell_type": "code",
   "execution_count": 30,
   "metadata": {},
   "outputs": [
    {
     "data": {
      "text/plain": [
       "28.776708725884532"
      ]
     },
     "execution_count": 30,
     "metadata": {},
     "output_type": "execute_result"
    }
   ],
   "source": [
    "np.linalg.det(cov_p_proton_mapped)"
   ]
  },
  {
   "cell_type": "markdown",
   "metadata": {},
   "source": [
    "From each observable, compute the expected utilities"
   ]
  },
  {
   "cell_type": "code",
   "execution_count": 31,
   "metadata": {},
   "outputs": [],
   "source": [
    "utils_no_trans = compute_all_1pt_utilities(compton_obs)"
   ]
  },
  {
   "cell_type": "code",
   "execution_count": 32,
   "metadata": {},
   "outputs": [],
   "source": [
    "utils_with_trans = compute_all_1pt_utilities(compton_obs_mapped)"
   ]
  },
  {
   "cell_type": "markdown",
   "metadata": {},
   "source": [
    "Plot the utilities next to each other."
   ]
  },
  {
   "cell_type": "code",
   "execution_count": 33,
   "metadata": {
    "scrolled": false
   },
   "outputs": [
    {
     "data": {
      "image/png": "[encoded data removed]",
      "text/plain": [
       "<Figure size 600x2100 with 26 Axes>"
      ]
     },
     "metadata": {
      "needs_background": "light"
     },
     "output_type": "display_data"
    }
   ],
   "source": [
    "fig, axes = plt.subplots(len(observables_unique), 2, figsize=(4, 14), sharex=True, sharey=True)\n",
    "for i, obs_i in enumerate(observables_unique):\n",
    "    for j, nucleon_j in enumerate(['proton']):\n",
    "        ax = axes[i, j]\n",
    "        order_i = 4\n",
    "\n",
    "        util_i = utils_no_trans[nucleon_j, obs_i, 'all']\n",
    "        util_i_mapped = utils_with_trans[nucleon_j, obs_i, 'all']\n",
    "\n",
    "        axes[i, 0].contourf(omega_lab_unique, degrees_lab_unique, util_i.reshape(n_omega, n_angle).T)\n",
    "        axes[i, 1].contourf(omega_lab_unique, degrees_lab_unique, util_i_mapped.reshape(n_omega, n_angle).T)\n",
    "        axes[i, 0].tick_params(direction='in')\n",
    "        axes[i, 1].tick_params(direction='in')\n",
    "fig.tight_layout(h_pad=0.3, w_pad=0.3)"
   ]
  },
  {
   "cell_type": "code",
   "execution_count": null,
   "metadata": {},
   "outputs": [],
   "source": []
  }
 ],
 "metadata": {
  "kernelspec": {
   "display_name": "Python [conda env:compton] *",
   "language": "python",
   "name": "conda-env-compton-py"
  },
  "language_info": {
   "codemirror_mode": {
    "name": "ipython",
    "version": 3
   },
   "file_extension": ".py",
   "mimetype": "text/x-python",
   "name": "python",
   "nbconvert_exporter": "python",
   "pygments_lexer": "ipython3",
   "version": "3.7.5"
  }
 },
 "nbformat": 4,
 "nbformat_minor": 2
}
